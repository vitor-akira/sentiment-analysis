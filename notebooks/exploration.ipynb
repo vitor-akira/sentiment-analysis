{
 "cells": [
  {
   "cell_type": "code",
   "execution_count": 1,
   "metadata": {},
   "outputs": [],
   "source": [
    "import pandas as pd"
   ]
  },
  {
   "cell_type": "code",
   "execution_count": 3,
   "metadata": {},
   "outputs": [],
   "source": [
    "am_path = \"../data/raw/am_scrape_final.csv\"\n",
    "ml_path = \"../data/raw/ml_scrape_final.csv\"\n",
    "\n",
    "df_am = pd.read_csv(am_path)\n",
    "df_ml = pd.read_csv(ml_path)"
   ]
  },
  {
   "cell_type": "code",
   "execution_count": 4,
   "metadata": {},
   "outputs": [
    {
     "data": {
      "text/html": [
       "<div>\n",
       "<style scoped>\n",
       "    .dataframe tbody tr th:only-of-type {\n",
       "        vertical-align: middle;\n",
       "    }\n",
       "\n",
       "    .dataframe tbody tr th {\n",
       "        vertical-align: top;\n",
       "    }\n",
       "\n",
       "    .dataframe thead th {\n",
       "        text-align: right;\n",
       "    }\n",
       "</style>\n",
       "<table border=\"1\" class=\"dataframe\">\n",
       "  <thead>\n",
       "    <tr style=\"text-align: right;\">\n",
       "      <th></th>\n",
       "      <th>Search Query</th>\n",
       "      <th>Product Title</th>\n",
       "      <th>Link</th>\n",
       "      <th>Review</th>\n",
       "    </tr>\n",
       "  </thead>\n",
       "  <tbody>\n",
       "    <tr>\n",
       "      <th>0</th>\n",
       "      <td>smartphone</td>\n",
       "      <td>Smartphone Xiaomi Note 12 4G 128GB 6GB Ram (VE...</td>\n",
       "      <td>https://www.amazon.com.br/dp/B0BZ7RJDHD</td>\n",
       "      <td>Com a necessidade de comprar um celular custo ...</td>\n",
       "    </tr>\n",
       "    <tr>\n",
       "      <th>1</th>\n",
       "      <td>smartphone</td>\n",
       "      <td>Smartphone Xiaomi Note 12 4G 128GB 6GB Ram (VE...</td>\n",
       "      <td>https://www.amazon.com.br/dp/B0BZ7RJDHD</td>\n",
       "      <td>Minha experiência de 10 dias de uso com o Xiao...</td>\n",
       "    </tr>\n",
       "    <tr>\n",
       "      <th>2</th>\n",
       "      <td>smartphone</td>\n",
       "      <td>Smartphone Xiaomi Note 12 4G 128GB 6GB Ram (VE...</td>\n",
       "      <td>https://www.amazon.com.br/dp/B0BZ7RJDHD</td>\n",
       "      <td>Smartphone de qualidade como já esperava, boas...</td>\n",
       "    </tr>\n",
       "    <tr>\n",
       "      <th>3</th>\n",
       "      <td>smartphone</td>\n",
       "      <td>Smartphone Xiaomi Note 12 4G 128GB 6GB Ram (VE...</td>\n",
       "      <td>https://www.amazon.com.br/dp/B0BZ7RJDHD</td>\n",
       "      <td>atendeu mto minhas expectativas. Antes  eu usa...</td>\n",
       "    </tr>\n",
       "    <tr>\n",
       "      <th>4</th>\n",
       "      <td>smartphone</td>\n",
       "      <td>Smartphone Xiaomi Note 12 4G 128GB 6GB Ram (VE...</td>\n",
       "      <td>https://www.amazon.com.br/dp/B0BZ7RJDHD</td>\n",
       "      <td>Gostei muito do celular, tem resposta rápida e...</td>\n",
       "    </tr>\n",
       "  </tbody>\n",
       "</table>\n",
       "</div>"
      ],
      "text/plain": [
       "  Search Query                                      Product Title  \\\n",
       "0   smartphone  Smartphone Xiaomi Note 12 4G 128GB 6GB Ram (VE...   \n",
       "1   smartphone  Smartphone Xiaomi Note 12 4G 128GB 6GB Ram (VE...   \n",
       "2   smartphone  Smartphone Xiaomi Note 12 4G 128GB 6GB Ram (VE...   \n",
       "3   smartphone  Smartphone Xiaomi Note 12 4G 128GB 6GB Ram (VE...   \n",
       "4   smartphone  Smartphone Xiaomi Note 12 4G 128GB 6GB Ram (VE...   \n",
       "\n",
       "                                      Link  \\\n",
       "0  https://www.amazon.com.br/dp/B0BZ7RJDHD   \n",
       "1  https://www.amazon.com.br/dp/B0BZ7RJDHD   \n",
       "2  https://www.amazon.com.br/dp/B0BZ7RJDHD   \n",
       "3  https://www.amazon.com.br/dp/B0BZ7RJDHD   \n",
       "4  https://www.amazon.com.br/dp/B0BZ7RJDHD   \n",
       "\n",
       "                                              Review  \n",
       "0  Com a necessidade de comprar um celular custo ...  \n",
       "1  Minha experiência de 10 dias de uso com o Xiao...  \n",
       "2  Smartphone de qualidade como já esperava, boas...  \n",
       "3  atendeu mto minhas expectativas. Antes  eu usa...  \n",
       "4  Gostei muito do celular, tem resposta rápida e...  "
      ]
     },
     "execution_count": 4,
     "metadata": {},
     "output_type": "execute_result"
    }
   ],
   "source": [
    "df_am.head()"
   ]
  },
  {
   "cell_type": "code",
   "execution_count": 5,
   "metadata": {},
   "outputs": [
    {
     "data": {
      "text/html": [
       "<div>\n",
       "<style scoped>\n",
       "    .dataframe tbody tr th:only-of-type {\n",
       "        vertical-align: middle;\n",
       "    }\n",
       "\n",
       "    .dataframe tbody tr th {\n",
       "        vertical-align: top;\n",
       "    }\n",
       "\n",
       "    .dataframe thead th {\n",
       "        text-align: right;\n",
       "    }\n",
       "</style>\n",
       "<table border=\"1\" class=\"dataframe\">\n",
       "  <thead>\n",
       "    <tr style=\"text-align: right;\">\n",
       "      <th></th>\n",
       "      <th>Pesquisa</th>\n",
       "      <th>Titulo</th>\n",
       "      <th>Link</th>\n",
       "      <th>Comentario</th>\n",
       "    </tr>\n",
       "  </thead>\n",
       "  <tbody>\n",
       "    <tr>\n",
       "      <th>0</th>\n",
       "      <td>smartphone</td>\n",
       "      <td>Smartphone Samsung Galaxy A14 Dual 6.6 128gb P...</td>\n",
       "      <td>https://produto.mercadolivre.com.br/MLB-331518...</td>\n",
       "      <td>A foto fica amarelada quando eu vou fotografar...</td>\n",
       "    </tr>\n",
       "    <tr>\n",
       "      <th>1</th>\n",
       "      <td>smartphone</td>\n",
       "      <td>Smartphone Samsung Galaxy A14 Dual 6.6 128gb P...</td>\n",
       "      <td>https://produto.mercadolivre.com.br/MLB-331518...</td>\n",
       "      <td>👏🏼👏🏼👏🏼👏🏼👏🏼👏🏼.</td>\n",
       "    </tr>\n",
       "    <tr>\n",
       "      <th>2</th>\n",
       "      <td>smartphone</td>\n",
       "      <td>Smartphone Samsung Galaxy A14 Dual 6.6 128gb P...</td>\n",
       "      <td>https://produto.mercadolivre.com.br/MLB-331518...</td>\n",
       "      <td>Muito bom.</td>\n",
       "    </tr>\n",
       "    <tr>\n",
       "      <th>3</th>\n",
       "      <td>smartphone</td>\n",
       "      <td>Smartphone Samsung Galaxy A14 Dual 6.6 128gb P...</td>\n",
       "      <td>https://produto.mercadolivre.com.br/MLB-331518...</td>\n",
       "      <td>Produto muito bom dei de presente pra meu filh...</td>\n",
       "    </tr>\n",
       "    <tr>\n",
       "      <th>4</th>\n",
       "      <td>smartphone</td>\n",
       "      <td>Smartphone Samsung Galaxy A14 Dual 6.6 128gb P...</td>\n",
       "      <td>https://produto.mercadolivre.com.br/MLB-331518...</td>\n",
       "      <td>Recomendo.</td>\n",
       "    </tr>\n",
       "  </tbody>\n",
       "</table>\n",
       "</div>"
      ],
      "text/plain": [
       "     Pesquisa                                             Titulo  \\\n",
       "0  smartphone  Smartphone Samsung Galaxy A14 Dual 6.6 128gb P...   \n",
       "1  smartphone  Smartphone Samsung Galaxy A14 Dual 6.6 128gb P...   \n",
       "2  smartphone  Smartphone Samsung Galaxy A14 Dual 6.6 128gb P...   \n",
       "3  smartphone  Smartphone Samsung Galaxy A14 Dual 6.6 128gb P...   \n",
       "4  smartphone  Smartphone Samsung Galaxy A14 Dual 6.6 128gb P...   \n",
       "\n",
       "                                                Link  \\\n",
       "0  https://produto.mercadolivre.com.br/MLB-331518...   \n",
       "1  https://produto.mercadolivre.com.br/MLB-331518...   \n",
       "2  https://produto.mercadolivre.com.br/MLB-331518...   \n",
       "3  https://produto.mercadolivre.com.br/MLB-331518...   \n",
       "4  https://produto.mercadolivre.com.br/MLB-331518...   \n",
       "\n",
       "                                          Comentario  \n",
       "0  A foto fica amarelada quando eu vou fotografar...  \n",
       "1                                      👏🏼👏🏼👏🏼👏🏼👏🏼👏🏼.  \n",
       "2                                         Muito bom.  \n",
       "3  Produto muito bom dei de presente pra meu filh...  \n",
       "4                                         Recomendo.  "
      ]
     },
     "execution_count": 5,
     "metadata": {},
     "output_type": "execute_result"
    }
   ],
   "source": [
    "df_ml.head()"
   ]
  },
  {
   "cell_type": "markdown",
   "metadata": {},
   "source": [
    "# Verificando a existencia de valores nulos"
   ]
  },
  {
   "cell_type": "code",
   "execution_count": 6,
   "metadata": {},
   "outputs": [
    {
     "name": "stdout",
     "output_type": "stream",
     "text": [
      "Amazon Dataset:\n",
      " Search Query     0\n",
      "Product Title    0\n",
      "Link             0\n",
      "Review           0\n",
      "dtype: int64\n",
      "\n",
      "Mercado Livre Dataset:\n",
      " Pesquisa      0\n",
      "Titulo        0\n",
      "Link          0\n",
      "Comentario    0\n",
      "dtype: int64\n"
     ]
    }
   ],
   "source": [
    "print(\"Amazon Dataset:\\n\", df_am.isnull().sum())\n",
    "print(\"\\nMercado Livre Dataset:\\n\", df_ml.isnull().sum())"
   ]
  },
  {
   "cell_type": "code",
   "execution_count": null,
   "metadata": {},
   "outputs": [
    {
     "name": "stdout",
     "output_type": "stream",
     "text": [
      "Amazon Dataset: (9815, 4)\n",
      "Mercado Livre Dataset: (59934, 4)\n"
     ]
    }
   ],
   "source": []
  },
  {
   "cell_type": "code",
   "execution_count": null,
   "metadata": {},
   "outputs": [],
   "source": []
  }
 ],
 "metadata": {
  "kernelspec": {
   "display_name": "venv",
   "language": "python",
   "name": "python3"
  },
  "language_info": {
   "codemirror_mode": {
    "name": "ipython",
    "version": 3
   },
   "file_extension": ".py",
   "mimetype": "text/x-python",
   "name": "python",
   "nbconvert_exporter": "python",
   "pygments_lexer": "ipython3",
   "version": "3.12.3"
  }
 },
 "nbformat": 4,
 "nbformat_minor": 2
}

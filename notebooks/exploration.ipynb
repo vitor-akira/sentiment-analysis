{
 "cells": [
  {
   "cell_type": "markdown",
   "id": "d308db4e",
   "metadata": {},
   "source": [
    "# preparacao do dataset"
   ]
  },
  {
   "cell_type": "markdown",
   "id": "afc03f80",
   "metadata": {},
   "source": [
    "# importando bibliotecas para o tratamento"
   ]
  },
  {
   "cell_type": "code",
   "execution_count": 46,
   "id": "bb5ee62f",
   "metadata": {},
   "outputs": [
    {
     "data": {
      "text/plain": [
       "True"
      ]
     },
     "execution_count": 46,
     "metadata": {},
     "output_type": "execute_result"
    }
   ],
   "source": [
    "import pandas as pd\n",
    "import nltk\n",
    "from nltk.corpus import stopwords\n",
    "import re\n",
    "import unicodedata\n",
    "import emoji\n",
    "\n",
    "nltk.download('stopwords', quiet=True)"
   ]
  },
  {
   "cell_type": "code",
   "execution_count": 25,
   "id": "4f2104c9",
   "metadata": {},
   "outputs": [
    {
     "data": {
      "text/html": [
       "<div>\n",
       "<style scoped>\n",
       "    .dataframe tbody tr th:only-of-type {\n",
       "        vertical-align: middle;\n",
       "    }\n",
       "\n",
       "    .dataframe tbody tr th {\n",
       "        vertical-align: top;\n",
       "    }\n",
       "\n",
       "    .dataframe thead th {\n",
       "        text-align: right;\n",
       "    }\n",
       "</style>\n",
       "<table border=\"1\" class=\"dataframe\">\n",
       "  <thead>\n",
       "    <tr style=\"text-align: right;\">\n",
       "      <th></th>\n",
       "      <th>review_id</th>\n",
       "      <th>order_id</th>\n",
       "      <th>review_score</th>\n",
       "      <th>review_comment_title</th>\n",
       "      <th>review_comment_message</th>\n",
       "      <th>review_creation_date</th>\n",
       "      <th>review_answer_timestamp</th>\n",
       "    </tr>\n",
       "  </thead>\n",
       "  <tbody>\n",
       "    <tr>\n",
       "      <th>0</th>\n",
       "      <td>7bc2406110b926393aa56f80a40eba40</td>\n",
       "      <td>73fc7af87114b39712e6da79b0a377eb</td>\n",
       "      <td>4</td>\n",
       "      <td>NaN</td>\n",
       "      <td>NaN</td>\n",
       "      <td>2018-01-18 00:00:00</td>\n",
       "      <td>2018-01-18 21:46:59</td>\n",
       "    </tr>\n",
       "    <tr>\n",
       "      <th>1</th>\n",
       "      <td>80e641a11e56f04c1ad469d5645fdfde</td>\n",
       "      <td>a548910a1c6147796b98fdf73dbeba33</td>\n",
       "      <td>5</td>\n",
       "      <td>NaN</td>\n",
       "      <td>NaN</td>\n",
       "      <td>2018-03-10 00:00:00</td>\n",
       "      <td>2018-03-11 03:05:13</td>\n",
       "    </tr>\n",
       "    <tr>\n",
       "      <th>2</th>\n",
       "      <td>228ce5500dc1d8e020d8d1322874b6f0</td>\n",
       "      <td>f9e4b658b201a9f2ecdecbb34bed034b</td>\n",
       "      <td>5</td>\n",
       "      <td>NaN</td>\n",
       "      <td>NaN</td>\n",
       "      <td>2018-02-17 00:00:00</td>\n",
       "      <td>2018-02-18 14:36:24</td>\n",
       "    </tr>\n",
       "    <tr>\n",
       "      <th>3</th>\n",
       "      <td>e64fb393e7b32834bb789ff8bb30750e</td>\n",
       "      <td>658677c97b385a9be170737859d3511b</td>\n",
       "      <td>5</td>\n",
       "      <td>NaN</td>\n",
       "      <td>Recebi bem antes do prazo estipulado.</td>\n",
       "      <td>2017-04-21 00:00:00</td>\n",
       "      <td>2017-04-21 22:02:06</td>\n",
       "    </tr>\n",
       "    <tr>\n",
       "      <th>4</th>\n",
       "      <td>f7c4243c7fe1938f181bec41a392bdeb</td>\n",
       "      <td>8e6bfb81e283fa7e4f11123a3fb894f1</td>\n",
       "      <td>5</td>\n",
       "      <td>NaN</td>\n",
       "      <td>Parabéns lojas lannister adorei comprar pela I...</td>\n",
       "      <td>2018-03-01 00:00:00</td>\n",
       "      <td>2018-03-02 10:26:53</td>\n",
       "    </tr>\n",
       "  </tbody>\n",
       "</table>\n",
       "</div>"
      ],
      "text/plain": [
       "                          review_id                          order_id  \\\n",
       "0  7bc2406110b926393aa56f80a40eba40  73fc7af87114b39712e6da79b0a377eb   \n",
       "1  80e641a11e56f04c1ad469d5645fdfde  a548910a1c6147796b98fdf73dbeba33   \n",
       "2  228ce5500dc1d8e020d8d1322874b6f0  f9e4b658b201a9f2ecdecbb34bed034b   \n",
       "3  e64fb393e7b32834bb789ff8bb30750e  658677c97b385a9be170737859d3511b   \n",
       "4  f7c4243c7fe1938f181bec41a392bdeb  8e6bfb81e283fa7e4f11123a3fb894f1   \n",
       "\n",
       "   review_score review_comment_title  \\\n",
       "0             4                  NaN   \n",
       "1             5                  NaN   \n",
       "2             5                  NaN   \n",
       "3             5                  NaN   \n",
       "4             5                  NaN   \n",
       "\n",
       "                              review_comment_message review_creation_date  \\\n",
       "0                                                NaN  2018-01-18 00:00:00   \n",
       "1                                                NaN  2018-03-10 00:00:00   \n",
       "2                                                NaN  2018-02-17 00:00:00   \n",
       "3              Recebi bem antes do prazo estipulado.  2017-04-21 00:00:00   \n",
       "4  Parabéns lojas lannister adorei comprar pela I...  2018-03-01 00:00:00   \n",
       "\n",
       "  review_answer_timestamp  \n",
       "0     2018-01-18 21:46:59  \n",
       "1     2018-03-11 03:05:13  \n",
       "2     2018-02-18 14:36:24  \n",
       "3     2017-04-21 22:02:06  \n",
       "4     2018-03-02 10:26:53  "
      ]
     },
     "execution_count": 25,
     "metadata": {},
     "output_type": "execute_result"
    }
   ],
   "source": [
    "review = pd.read_csv(\"../data/raw/olist_order_reviews_dataset.csv\")\n",
    "review.head()"
   ]
  },
  {
   "cell_type": "markdown",
   "id": "c2020348",
   "metadata": {},
   "source": [
    "# verificando e removendo valores nulos nas colunas principais"
   ]
  },
  {
   "cell_type": "code",
   "execution_count": 27,
   "id": "c0ce500f",
   "metadata": {},
   "outputs": [
    {
     "name": "stdout",
     "output_type": "stream",
     "text": [
      "review_id                     0\n",
      "review_score                  0\n",
      "review_comment_message    58247\n",
      "dtype: int64\n"
     ]
    }
   ],
   "source": [
    "print(review[['review_id','review_score','review_comment_message']].isnull().sum())"
   ]
  },
  {
   "cell_type": "code",
   "execution_count": 29,
   "id": "825ca7af",
   "metadata": {},
   "outputs": [
    {
     "name": "stdout",
     "output_type": "stream",
     "text": [
      "formato após remoção de nulos: (40977, 7)\n"
     ]
    }
   ],
   "source": [
    "review = review.dropna(subset=['review_id','review_score','review_comment_message']).copy()\n",
    "print('formato após remoção de nulos:', review.shape)"
   ]
  },
  {
   "cell_type": "markdown",
   "id": "a3c2482f",
   "metadata": {},
   "source": [
    "# removendo duplicatas exatas no texto de review"
   ]
  },
  {
   "cell_type": "code",
   "execution_count": 31,
   "id": "253839b8",
   "metadata": {},
   "outputs": [
    {
     "name": "stdout",
     "output_type": "stream",
     "text": [
      "Duplicatas encontradas: 4818\n"
     ]
    }
   ],
   "source": [
    "dup_count = review.duplicated(subset=['review_comment_message']).sum()\n",
    "print('Duplicatas encontradas:', dup_count)"
   ]
  },
  {
   "cell_type": "code",
   "execution_count": 33,
   "id": "bfbd11b8",
   "metadata": {},
   "outputs": [
    {
     "name": "stdout",
     "output_type": "stream",
     "text": [
      "formato após remover duplicatas: (36159, 7)\n"
     ]
    }
   ],
   "source": [
    "review = review.drop_duplicates(subset=['review_comment_message']).reset_index(drop=True)\n",
    "print('formato após remover duplicatas:', review.shape)"
   ]
  },
  {
   "cell_type": "markdown",
   "id": "5024eab3",
   "metadata": {},
   "source": [
    "# removendo score = 3"
   ]
  },
  {
   "cell_type": "code",
   "execution_count": null,
   "id": "f9422636",
   "metadata": {},
   "outputs": [
    {
     "name": "stdout",
     "output_type": "stream",
     "text": [
      "Shape após remover notas 3: (32901, 7)\n",
      "review_score\n",
      "5    17369\n",
      "1     8388\n",
      "4     5093\n",
      "2     2051\n",
      "Name: count, dtype: int64\n"
     ]
    }
   ],
   "source": [
    "review = review[review['review_score'] != 3].copy()\n",
    "print('formato após remover notas 3:', review.shape)\n",
    "print(review['review_score'].value_counts())"
   ]
  },
  {
   "cell_type": "markdown",
   "id": "a1803114",
   "metadata": {},
   "source": [
    "# criando a coluna sentiment"
   ]
  },
  {
   "cell_type": "code",
   "execution_count": 35,
   "id": "f16fb91c",
   "metadata": {},
   "outputs": [
    {
     "name": "stdout",
     "output_type": "stream",
     "text": [
      "sentiment\n",
      "1    22462\n",
      "0    10439\n",
      "Name: count, dtype: int64\n"
     ]
    }
   ],
   "source": [
    "# Criar coluna 'sentiment'\n",
    "review['sentiment'] = review['review_score'].apply(lambda x: 1 if x >= 4 else 0)\n",
    "\n",
    "# Conferir distribuição\n",
    "print(review['sentiment'].value_counts())"
   ]
  },
  {
   "cell_type": "markdown",
   "id": "74b2978e",
   "metadata": {},
   "source": [
    "# balanceando valores positivos e negativos"
   ]
  },
  {
   "cell_type": "code",
   "execution_count": 36,
   "id": "355ea12b",
   "metadata": {},
   "outputs": [
    {
     "name": "stdout",
     "output_type": "stream",
     "text": [
      "\n",
      "Quantidade de negativos: 10439\n",
      "Quantidade de positivos antes do balanceamento: 22462\n"
     ]
    }
   ],
   "source": [
    "negativos = review[review['sentiment'] == 0]\n",
    "positivos = review[review['sentiment'] == 1]\n",
    "\n",
    "n_neg = len(negativos)\n",
    "print(f'\\nQuantidade de negativos: {n_neg}')\n",
    "print(f'Quantidade de positivos antes do balanceamento: {len(positivos)}')"
   ]
  },
  {
   "cell_type": "code",
   "execution_count": 37,
   "id": "97c2edb3",
   "metadata": {},
   "outputs": [
    {
     "name": "stdout",
     "output_type": "stream",
     "text": [
      "\n",
      "Depois do balanceamento:\n",
      "sentiment\n",
      "1    10439\n",
      "0    10439\n",
      "Name: count, dtype: int64\n"
     ]
    }
   ],
   "source": [
    "positivos_down = positivos.sample(n=n_neg, random_state=42)\n",
    "\n",
    "review_balanced = (\n",
    "    pd.concat([negativos, positivos_down])\n",
    "      .sample(frac=1, random_state=42)\n",
    "      .reset_index(drop=True)\n",
    ")\n",
    "\n",
    "print(\"\\nDepois do balanceamento:\")\n",
    "print(review_balanced['sentiment'].value_counts())"
   ]
  },
  {
   "cell_type": "markdown",
   "id": "730b3fb2",
   "metadata": {},
   "source": [
    "# selecionando colunas importantes"
   ]
  },
  {
   "cell_type": "code",
   "execution_count": 39,
   "id": "6173f78f",
   "metadata": {},
   "outputs": [
    {
     "data": {
      "text/html": [
       "<div>\n",
       "<style scoped>\n",
       "    .dataframe tbody tr th:only-of-type {\n",
       "        vertical-align: middle;\n",
       "    }\n",
       "\n",
       "    .dataframe tbody tr th {\n",
       "        vertical-align: top;\n",
       "    }\n",
       "\n",
       "    .dataframe thead th {\n",
       "        text-align: right;\n",
       "    }\n",
       "</style>\n",
       "<table border=\"1\" class=\"dataframe\">\n",
       "  <thead>\n",
       "    <tr style=\"text-align: right;\">\n",
       "      <th></th>\n",
       "      <th>review_id</th>\n",
       "      <th>review_score</th>\n",
       "      <th>review_comment_message</th>\n",
       "      <th>sentiment</th>\n",
       "    </tr>\n",
       "  </thead>\n",
       "  <tbody>\n",
       "    <tr>\n",
       "      <th>0</th>\n",
       "      <td>e64fb393e7b32834bb789ff8bb30750e</td>\n",
       "      <td>5</td>\n",
       "      <td>Recebi bem antes do prazo estipulado.</td>\n",
       "      <td>1</td>\n",
       "    </tr>\n",
       "    <tr>\n",
       "      <th>1</th>\n",
       "      <td>f7c4243c7fe1938f181bec41a392bdeb</td>\n",
       "      <td>5</td>\n",
       "      <td>Parabéns lojas lannister adorei comprar pela I...</td>\n",
       "      <td>1</td>\n",
       "    </tr>\n",
       "    <tr>\n",
       "      <th>2</th>\n",
       "      <td>8670d52e15e00043ae7de4c01cc2fe06</td>\n",
       "      <td>4</td>\n",
       "      <td>aparelho eficiente. no site a marca do aparelh...</td>\n",
       "      <td>1</td>\n",
       "    </tr>\n",
       "    <tr>\n",
       "      <th>3</th>\n",
       "      <td>4b49719c8a200003f700d3d986ea1a19</td>\n",
       "      <td>4</td>\n",
       "      <td>Mas um pouco ,travando...pelo valor ta Boa.\\r\\n</td>\n",
       "      <td>1</td>\n",
       "    </tr>\n",
       "    <tr>\n",
       "      <th>4</th>\n",
       "      <td>3948b09f7c818e2d86c9a546758b2335</td>\n",
       "      <td>5</td>\n",
       "      <td>Vendedor confiável, produto ok e entrega antes...</td>\n",
       "      <td>1</td>\n",
       "    </tr>\n",
       "  </tbody>\n",
       "</table>\n",
       "</div>"
      ],
      "text/plain": [
       "                          review_id  review_score  \\\n",
       "0  e64fb393e7b32834bb789ff8bb30750e             5   \n",
       "1  f7c4243c7fe1938f181bec41a392bdeb             5   \n",
       "2  8670d52e15e00043ae7de4c01cc2fe06             4   \n",
       "3  4b49719c8a200003f700d3d986ea1a19             4   \n",
       "4  3948b09f7c818e2d86c9a546758b2335             5   \n",
       "\n",
       "                              review_comment_message  sentiment  \n",
       "0              Recebi bem antes do prazo estipulado.          1  \n",
       "1  Parabéns lojas lannister adorei comprar pela I...          1  \n",
       "2  aparelho eficiente. no site a marca do aparelh...          1  \n",
       "3    Mas um pouco ,travando...pelo valor ta Boa.\\r\\n          1  \n",
       "4  Vendedor confiável, produto ok e entrega antes...          1  "
      ]
     },
     "execution_count": 39,
     "metadata": {},
     "output_type": "execute_result"
    }
   ],
   "source": [
    "review_final = review[['review_id','review_score','review_comment_message','sentiment']].copy()\n",
    "review_final.head()"
   ]
  },
  {
   "cell_type": "markdown",
   "id": "d33bb309",
   "metadata": {},
   "source": [
    "# tratamento do dataset"
   ]
  },
  {
   "cell_type": "code",
   "execution_count": 47,
   "id": "6c816d6b",
   "metadata": {},
   "outputs": [],
   "source": [
    "stopwords_pt = set(stopwords.words('portuguese'))\n",
    "\n",
    "clean = review_final['review_comment_message'].astype(str)\n",
    "clean = clean.str.lower()\n",
    "clean = clean.apply(lambda txt: emoji.replace_emoji(txt, replace=' '))"
   ]
  },
  {
   "cell_type": "code",
   "execution_count": 48,
   "id": "6eb14d2d",
   "metadata": {},
   "outputs": [],
   "source": [
    "clean = clean.apply(lambda txt: unicodedata.normalize('NFD', txt))\n",
    "clean = clean.str.replace(r'[\\u0300-\\u036f]', '', regex=True)\n",
    "clean = clean.str.replace(r'[^a-z\\s]', ' ', regex=True)"
   ]
  },
  {
   "cell_type": "code",
   "execution_count": 49,
   "id": "d382a73c",
   "metadata": {},
   "outputs": [],
   "source": [
    "clean = clean.str.split().apply(\n",
    "    lambda tokens: [w for w in tokens if w not in stopwords_pt and len(w) > 1]\n",
    ")\n",
    "clean = clean.str.join(' ')"
   ]
  },
  {
   "cell_type": "code",
   "execution_count": 50,
   "id": "95ced0f3",
   "metadata": {},
   "outputs": [],
   "source": [
    "clean = clean.str.replace(r'\\s+', ' ', regex=True).str.strip()"
   ]
  },
  {
   "cell_type": "code",
   "execution_count": 51,
   "id": "3e3971be",
   "metadata": {},
   "outputs": [
    {
     "data": {
      "text/html": [
       "<div>\n",
       "<style scoped>\n",
       "    .dataframe tbody tr th:only-of-type {\n",
       "        vertical-align: middle;\n",
       "    }\n",
       "\n",
       "    .dataframe tbody tr th {\n",
       "        vertical-align: top;\n",
       "    }\n",
       "\n",
       "    .dataframe thead th {\n",
       "        text-align: right;\n",
       "    }\n",
       "</style>\n",
       "<table border=\"1\" class=\"dataframe\">\n",
       "  <thead>\n",
       "    <tr style=\"text-align: right;\">\n",
       "      <th></th>\n",
       "      <th>review_comment_message</th>\n",
       "      <th>clean_review</th>\n",
       "    </tr>\n",
       "  </thead>\n",
       "  <tbody>\n",
       "    <tr>\n",
       "      <th>0</th>\n",
       "      <td>Recebi bem antes do prazo estipulado.</td>\n",
       "      <td>recebi bem antes prazo estipulado</td>\n",
       "    </tr>\n",
       "    <tr>\n",
       "      <th>1</th>\n",
       "      <td>Parabéns lojas lannister adorei comprar pela I...</td>\n",
       "      <td>parabens lojas lannister adorei comprar intern...</td>\n",
       "    </tr>\n",
       "    <tr>\n",
       "      <th>2</th>\n",
       "      <td>aparelho eficiente. no site a marca do aparelh...</td>\n",
       "      <td>aparelho eficiente site marca aparelho impress...</td>\n",
       "    </tr>\n",
       "    <tr>\n",
       "      <th>3</th>\n",
       "      <td>Mas um pouco ,travando...pelo valor ta Boa.\\r\\n</td>\n",
       "      <td>pouco travando valor ta boa</td>\n",
       "    </tr>\n",
       "    <tr>\n",
       "      <th>4</th>\n",
       "      <td>Vendedor confiável, produto ok e entrega antes...</td>\n",
       "      <td>vendedor confiavel produto ok entrega antes prazo</td>\n",
       "    </tr>\n",
       "  </tbody>\n",
       "</table>\n",
       "</div>"
      ],
      "text/plain": [
       "                              review_comment_message  \\\n",
       "0              Recebi bem antes do prazo estipulado.   \n",
       "1  Parabéns lojas lannister adorei comprar pela I...   \n",
       "2  aparelho eficiente. no site a marca do aparelh...   \n",
       "3    Mas um pouco ,travando...pelo valor ta Boa.\\r\\n   \n",
       "4  Vendedor confiável, produto ok e entrega antes...   \n",
       "\n",
       "                                        clean_review  \n",
       "0                  recebi bem antes prazo estipulado  \n",
       "1  parabens lojas lannister adorei comprar intern...  \n",
       "2  aparelho eficiente site marca aparelho impress...  \n",
       "3                        pouco travando valor ta boa  \n",
       "4  vendedor confiavel produto ok entrega antes prazo  "
      ]
     },
     "execution_count": 51,
     "metadata": {},
     "output_type": "execute_result"
    }
   ],
   "source": [
    "review_final['clean_review'] = clean\n",
    "review_final[['review_comment_message','clean_review']].head()"
   ]
  },
  {
   "cell_type": "markdown",
   "id": "fa72ddc0",
   "metadata": {},
   "source": [
    "# salvando o dataset processado"
   ]
  },
  {
   "cell_type": "code",
   "execution_count": null,
   "id": "b9ded026",
   "metadata": {},
   "outputs": [],
   "source": []
  }
 ],
 "metadata": {
  "kernelspec": {
   "display_name": "venv",
   "language": "python",
   "name": "python3"
  },
  "language_info": {
   "codemirror_mode": {
    "name": "ipython",
    "version": 3
   },
   "file_extension": ".py",
   "mimetype": "text/x-python",
   "name": "python",
   "nbconvert_exporter": "python",
   "pygments_lexer": "ipython3",
   "version": "3.12.3"
  }
 },
 "nbformat": 4,
 "nbformat_minor": 5
}
